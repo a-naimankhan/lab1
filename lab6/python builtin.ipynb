{
 "cells": [
  {
   "cell_type": "markdown",
   "metadata": {},
   "source": [
    "Write a Python program with builtin function to multiply all the numbers in a list"
   ]
  },
  {
   "cell_type": "code",
   "execution_count": 9,
   "metadata": {},
   "outputs": [],
   "source": [
    "import functools \n",
    "from functools import reduce \n",
    "import math \n",
    "import time \n",
    "#libraries "
   ]
  },
  {
   "cell_type": "code",
   "execution_count": 4,
   "metadata": {},
   "outputs": [
    {
     "name": "stdout",
     "output_type": "stream",
     "text": [
      "362880\n"
     ]
    }
   ],
   "source": [
    "def multiply_list(nums):\n",
    "    return reduce(lambda x , y : x * y , nums)\n",
    "\n",
    "nums = (num for num in range(1 , 10))\n",
    "result = multiply_list(nums)\n",
    "print(result)"
   ]
  },
  {
   "cell_type": "markdown",
   "metadata": {},
   "source": [
    "Write a Python program with builtin function that accepts a string and calculate the number of upper case letters and lower case letters"
   ]
  },
  {
   "cell_type": "code",
   "execution_count": 5,
   "metadata": {},
   "outputs": [
    {
     "name": "stdout",
     "output_type": "stream",
     "text": [
      "the number of upper letter is : 2\n"
     ]
    }
   ],
   "source": [
    "def calculate_upper(word):\n",
    "    return sum(1 for char in word if char.isupper())\n",
    "\n",
    "word=input()\n",
    "result = calculate_upper(word)\n",
    "print(f\"the number of upper letter is : {result}\")"
   ]
  },
  {
   "cell_type": "markdown",
   "metadata": {},
   "source": [
    "Write a Python program with builtin function that checks whether a passed string is palindrome or not."
   ]
  },
  {
   "cell_type": "code",
   "execution_count": 7,
   "metadata": {},
   "outputs": [
    {
     "name": "stdout",
     "output_type": "stream",
     "text": [
      "True\n"
     ]
    }
   ],
   "source": [
    "def is_palindrome(word):\n",
    "    return word == word[::-1]\n",
    "\n",
    "word=input(\"soz engiz : \")\n",
    "print(is_palindrome(word))"
   ]
  },
  {
   "cell_type": "markdown",
   "metadata": {},
   "source": [
    "Write a Python program that invoke square root function after specific milliseconds\n"
   ]
  },
  {
   "cell_type": "code",
   "execution_count": 10,
   "metadata": {},
   "outputs": [
    {
     "name": "stdout",
     "output_type": "stream",
     "text": [
      "Square root of 25100 after 2123 millisecond is 158.42979517754858\n"
     ]
    }
   ],
   "source": [
    "def delayed_sqrt(num , delay_ms):\n",
    "    time.sleep(delay_ms/1000)\n",
    "    return math.sqrt(num)\n",
    "\n",
    "num = int(input())\n",
    "delay_ms = int(input())\n",
    "print(f\"Square root of {num} after {delay_ms} millisecond is {delayed_sqrt(num , delay_ms)}\")"
   ]
  },
  {
   "cell_type": "markdown",
   "metadata": {},
   "source": [
    "Write a Python program with builtin function that returns True if all elements of the tuple are true."
   ]
  },
  {
   "cell_type": "code",
   "execution_count": 14,
   "metadata": {},
   "outputs": [
    {
     "name": "stdout",
     "output_type": "stream",
     "text": [
      "all of them are : True\n",
      "all of them are : True\n"
     ]
    }
   ],
   "source": [
    "def is_all_true(tupl):\n",
    "    return all(tupl)\n",
    "\n",
    "t = (True , \"i\" , \"s\" , \"t\" , 67 , 2+6 )\n",
    "q = (1 , 5 , \"a\" , \"gg\" , False)\n",
    "print(f\"all of them are : {is_all_true(t)}\")\n",
    "\n",
    "print(f\"all of them are : {is_all_true(q)}\")"
   ]
  }
 ],
 "metadata": {
  "kernelspec": {
   "display_name": "base",
   "language": "python",
   "name": "python3"
  },
  "language_info": {
   "codemirror_mode": {
    "name": "ipython",
    "version": 3
   },
   "file_extension": ".py",
   "mimetype": "text/x-python",
   "name": "python",
   "nbconvert_exporter": "python",
   "pygments_lexer": "ipython3",
   "version": "3.12.7"
  }
 },
 "nbformat": 4,
 "nbformat_minor": 2
}
