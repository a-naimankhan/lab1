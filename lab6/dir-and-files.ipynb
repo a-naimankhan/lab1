{
 "cells": [
  {
   "cell_type": "markdown",
   "metadata": {},
   "source": [
    "Write a Python program to list only directories, files and all directories, files in a specified path."
   ]
  },
  {
   "cell_type": "code",
   "execution_count": 2,
   "metadata": {},
   "outputs": [],
   "source": [
    "import os \n",
    "import string"
   ]
  },
  {
   "cell_type": "code",
   "execution_count": 8,
   "metadata": {},
   "outputs": [
    {
     "name": "stdout",
     "output_type": "stream",
     "text": [
      "Directories : ['.git', 'lab 3', 'lab 4', 'lab 5', 'lab1()', 'lab2', 'lab6']\n",
      "files : ['smth.py']\n",
      "All entries : ['.git', 'lab 3', 'lab 4', 'lab 5', 'lab1()', 'lab2', 'lab6', 'smth.py']\n"
     ]
    }
   ],
   "source": [
    "def list_directories(path):\n",
    "    directories = [d for d in os.listdir(path) if os.path.isdir(os.path.join(path, d))]\n",
    "    files = [f for f in os.listdir(path) if os.path.isfile(os.path.join(path, f))]\n",
    "    all_entries = os.listdir(path)\n",
    "    return directories, files, all_entries\n",
    "\n",
    "\n",
    "path = r\"C:\\Users\\Professional\\Desktop\\Python Labs\\lab1\"\n",
    "dirs , files , all_entries = list_directories(path)\n",
    "print(f\"Directories : {dirs}\")\n",
    "print(f\"files : {files}\")\n",
    "print(f\"All entries : {all_entries}\")"
   ]
  },
  {
   "cell_type": "markdown",
   "metadata": {},
   "source": [
    "Write a Python program to check for access to a specified path. Test the existence, readability, writability and executability of the specified path"
   ]
  },
  {
   "cell_type": "code",
   "execution_count": 11,
   "metadata": {},
   "outputs": [
    {
     "name": "stdout",
     "output_type": "stream",
     "text": [
      "exist = True\n",
      "readible = True\n",
      "writable = True\n",
      "execitable = True\n"
     ]
    }
   ],
   "source": [
    "def checker(path):\n",
    "    exist = os.path.exists(path)\n",
    "    if exist :\n",
    "        readeable = os.access(path , os.R_OK)\n",
    "        writible = os.access(path , os.W_OK )\n",
    "        execurability = os.access(path , os.EX_OK)\n",
    "        return exist , readeable , writible , execurability \n",
    "    \n",
    "exist , r , w , ex = checker(path)\n",
    "print(f\"exist = {exist}\")\n",
    "print(f\"readible = {r}\")\n",
    "print(f\"writable = {w}\")\n",
    "print(f\"execitable = {ex}\")"
   ]
  },
  {
   "cell_type": "markdown",
   "metadata": {},
   "source": [
    "Write a Python program to test whether a given path exists or not. If the path exist find the filename and directory portion of the given path."
   ]
  },
  {
   "cell_type": "code",
   "execution_count": 15,
   "metadata": {},
   "outputs": [
    {
     "name": "stdout",
     "output_type": "stream",
     "text": [
      "exist\n",
      "file name is : lab1\n",
      "Directory C:\\Users\\Professional\\Desktop\\Python Labs\n",
      "files in dir are :    \n",
      "- .git\n",
      "- lab 3\n",
      "- lab 4\n",
      "- lab 5\n",
      "- lab1()\n",
      "- lab2\n",
      "- lab6\n",
      "- smth.py\n"
     ]
    }
   ],
   "source": [
    "def is_exist(path):\n",
    "    if os.path.exists(path):\n",
    "        file_names = os.path.basename(path)\n",
    "        dir_names = os.path.dirname(path)\n",
    "        \n",
    "        if os.path.isdir(path):\n",
    "            files_in_dir = os.listdir(path)\n",
    "        else:\n",
    "            files_in_dir = False\n",
    "\n",
    "\n",
    "        return True , file_names , dir_names , files_in_dir\n",
    "    \n",
    "    else:\n",
    "        return False , None , None\n",
    "    \n",
    "exist , f , dir , files_in_dir  = is_exist(path)\n",
    "if exist:\n",
    "    print(\"exist\")\n",
    "    print(f\"file name is : {f}\")\n",
    "    print(f\"Directory {dir}\")\n",
    "\n",
    "    if files_in_dir is not None:\n",
    "        print(\"files in dir are :    \")\n",
    "        for file in files_in_dir:\n",
    "            print(f\"- {file}\")\n",
    "\n",
    "        \n",
    "else:\n",
    "    print(\"Plaki Plaki\")"
   ]
  },
  {
   "cell_type": "markdown",
   "metadata": {},
   "source": [
    "Write a Python program to count the number of lines in a text file."
   ]
  },
  {
   "cell_type": "code",
   "execution_count": 16,
   "metadata": {},
   "outputs": [
    {
     "name": "stdout",
     "output_type": "stream",
     "text": [
      "Amount of line are : 195\n"
     ]
    }
   ],
   "source": [
    "def count_lines(filename):\n",
    "    with open (filename , 'r') as file:\n",
    "        return sum(1 for line in file)\n",
    "    \n",
    "filename = \"dir-and-files.ipynb\"\n",
    "print(f\"Amount of line are : {count_lines(filename)}\") "
   ]
  },
  {
   "cell_type": "markdown",
   "metadata": {},
   "source": [
    "Write a Python program to write a list to a file."
   ]
  },
  {
   "cell_type": "code",
   "execution_count": 9,
   "metadata": {},
   "outputs": [],
   "source": [
    "def write(filename , data_list):\n",
    "    with open (filename , 'w') as file:\n",
    "        for item in data_list:\n",
    "            file.write(str(item) + \"\\n\")\n",
    "\n",
    "my_list = [\"PP1\" , \"PP2\" , \"CALC 2\" , 30 , 30 , 30 ,True]\n",
    "\n",
    "filename = \"output.txt\"\n",
    "\n",
    "write(filename , my_list)"
   ]
  },
  {
   "cell_type": "markdown",
   "metadata": {},
   "source": [
    "Write a Python program to generate 26 text files named A.txt, B.txt, and so on up to Z.txt"
   ]
  },
  {
   "cell_type": "code",
   "execution_count": 4,
   "metadata": {},
   "outputs": [],
   "source": [
    "import os \n",
    "import string\n",
    "\n",
    "def create_files(folder_name):\n",
    "\n",
    "    if not os.path.exists(folder_name):\n",
    "        os.makedirs(folder_name)\n",
    "\n",
    "    for letter in string.ascii_uppercase:\n",
    "        filename = os.path.join(folder_name, f\"{letter}.txt\")\n",
    "        with open(filename , 'w') as file:\n",
    "            file.write(f\"this is {filename}\")\n",
    "\n",
    "f = os.path.join(\"lab6\", \"new_directory1\")\n",
    "create_files(f)"
   ]
  },
  {
   "cell_type": "markdown",
   "metadata": {},
   "source": [
    "Write a Python program to copy the contents of a file to another file"
   ]
  },
  {
   "cell_type": "code",
   "execution_count": 8,
   "metadata": {},
   "outputs": [
    {
     "name": "stdout",
     "output_type": "stream",
     "text": [
      "copied from sourse.txt to destanation.txt completed :3\n"
     ]
    }
   ],
   "source": [
    "def copy(src , dst):\n",
    "    with open (src , 'r') as src , open(dst , 'a') as dst:\n",
    "        dst.write(src.read())\n",
    "\n",
    "src = r'sourse.txt'\n",
    "dst ='destanation.txt' \n",
    "\n",
    "copy(src , dst) \n",
    "\n",
    "print(f\"copied from {src} to {dst} completed :3\")"
   ]
  },
  {
   "cell_type": "markdown",
   "metadata": {},
   "source": []
  },
  {
   "cell_type": "code",
   "execution_count": null,
   "metadata": {},
   "outputs": [],
   "source": [
    "def delete_file(path):\n",
    "    if os.path.exists(path) and os.access(path , os.W_OK):\n",
    "        os.remove(path)\n",
    "        print(f\"file udalen ;d\")\n",
    "    else:\n",
    "        print(f\"ne udalilos;(\")\n",
    "\n",
    "path = 'filetodelete.txt'\n",
    "delete_file(path)\n",
    "\n",
    "print(f\"file {path} is deleted\")"
   ]
  }
 ],
 "metadata": {
  "kernelspec": {
   "display_name": "base",
   "language": "python",
   "name": "python3"
  },
  "language_info": {
   "codemirror_mode": {
    "name": "ipython",
    "version": 3
   },
   "file_extension": ".py",
   "mimetype": "text/x-python",
   "name": "python",
   "nbconvert_exporter": "python",
   "pygments_lexer": "ipython3",
   "version": "3.12.7"
  }
 },
 "nbformat": 4,
 "nbformat_minor": 2
}
