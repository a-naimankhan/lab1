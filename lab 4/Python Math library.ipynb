{
 "cells": [
  {
   "cell_type": "markdown",
   "metadata": {},
   "source": [
    "Write a Python program to convert degree to radian.\n"
   ]
  },
  {
   "cell_type": "code",
   "execution_count": 2,
   "metadata": {},
   "outputs": [
    {
     "name": "stdout",
     "output_type": "stream",
     "text": [
      "0.5934119456780721\n"
     ]
    }
   ],
   "source": [
    "import math\n",
    "\n",
    "def degree_to_radian(degree):\n",
    "    return math.radians(degree)\n",
    "\n",
    "degree = int(input())\n",
    "print(degree_to_radian(degree))"
   ]
  },
  {
   "cell_type": "markdown",
   "metadata": {},
   "source": [
    "Write a Python program to calculate the area of a trapezoid."
   ]
  },
  {
   "cell_type": "code",
   "execution_count": 2,
   "metadata": {},
   "outputs": [
    {
     "name": "stdout",
     "output_type": "stream",
     "text": [
      "27.5\n"
     ]
    }
   ],
   "source": [
    "def area (heigh , a , b):\n",
    "    return (0.5 * (a + b)) * heigh\n",
    "\n",
    "h = int(input())\n",
    "a = int(input())\n",
    "b = int(input())\n",
    "\n",
    "print (area (h , a , b))"
   ]
  },
  {
   "cell_type": "markdown",
   "metadata": {},
   "source": [
    "Write a Python program to calculate the area of regular polygon."
   ]
  },
  {
   "cell_type": "code",
   "execution_count": 3,
   "metadata": {},
   "outputs": [
    {
     "name": "stdout",
     "output_type": "stream",
     "text": [
      "15879\n"
     ]
    }
   ],
   "source": [
    "def area_of_polygon(number_of_slides , lenght_of_slide):\n",
    "    return math.ceil((number_of_slides * lenght_of_slide ** 2) / (4 * math.tan(math.pi / number_of_slides) ))  \n",
    "n = int(input())\n",
    "l = int(input())\n",
    "\n",
    "print(area_of_polygon(n , l))"
   ]
  },
  {
   "cell_type": "markdown",
   "metadata": {},
   "source": [
    "Write a Python program to calculate the area of a parallelogram."
   ]
  },
  {
   "cell_type": "code",
   "execution_count": 5,
   "metadata": {},
   "outputs": [
    {
     "name": "stdout",
     "output_type": "stream",
     "text": [
      "30\n"
     ]
    }
   ],
   "source": [
    "def area_of_paralleogram(a , b):\n",
    "    return a * b\n",
    "\n",
    "a = int(input())\n",
    "heigh = int(input()) \n",
    "print(area_of_paralleogram( a , heigh))"
   ]
  },
  {
   "cell_type": "code",
   "execution_count": 8,
   "metadata": {},
   "outputs": [
    {
     "name": "stdout",
     "output_type": "stream",
     "text": [
      "30\n"
     ]
    }
   ],
   "source": [
    "def area_of_paralleogram(a , b , degree):\n",
    "    angle_in_radians = math.radians(degree)\n",
    "    return math.ceil(a * b * math.sin(angle_in_radians)) \n",
    "\n",
    "a = int(input())\n",
    "b = int(input())\n",
    "d = int(input())\n",
    "print (area_of_paralleogram(a , b , d))"
   ]
  }
 ],
 "metadata": {
  "kernelspec": {
   "display_name": "base",
   "language": "python",
   "name": "python3"
  },
  "language_info": {
   "codemirror_mode": {
    "name": "ipython",
    "version": 3
   },
   "file_extension": ".py",
   "mimetype": "text/x-python",
   "name": "python",
   "nbconvert_exporter": "python",
   "pygments_lexer": "ipython3",
   "version": "3.12.7"
  }
 },
 "nbformat": 4,
 "nbformat_minor": 2
}
