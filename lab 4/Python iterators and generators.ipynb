{
 "cells": [
  {
   "cell_type": "markdown",
   "metadata": {},
   "source": [
    "Create a generator that generates the squares of numbers up to some number N."
   ]
  },
  {
   "cell_type": "code",
   "execution_count": 10,
   "metadata": {},
   "outputs": [
    {
     "name": "stdout",
     "output_type": "stream",
     "text": [
      " 1 square is  1\n",
      " 2 square is  4\n",
      " 3 square is  9\n",
      " 4 square is  16\n",
      " 5 square is  25\n"
     ]
    }
   ],
   "source": [
    "class mynumber:\n",
    "    def __init__(self):\n",
    "        self.a = 1 \n",
    "\n",
    "    def __iter__(self):\n",
    "        return self \n",
    "\n",
    "    def __next__(self):\n",
    "        x = self.a \n",
    "        self.a += 1 \n",
    "        return x ** 2\n",
    "\n",
    "myClass = mynumber()\n",
    "myiter = iter(myClass)\n",
    "\n",
    "n = int(input())\n",
    "\n",
    "for i in range(1, n+1):\n",
    "    print(f\" {i} square is  {next(myiter)}\")"
   ]
  },
  {
   "cell_type": "markdown",
   "metadata": {},
   "source": [
    "Write a program using generator to print the even numbers between 0 and n in comma separated form where n is input from console."
   ]
  },
  {
   "cell_type": "code",
   "execution_count": 12,
   "metadata": {},
   "outputs": [
    {
     "name": "stdout",
     "output_type": "stream",
     "text": [
      "2\n",
      "4\n",
      "6\n",
      "8\n",
      "10\n",
      "12\n",
      "14\n",
      "16\n",
      "18\n",
      "20\n",
      "22\n"
     ]
    },
    {
     "ename": "StopIteration",
     "evalue": "",
     "output_type": "error",
     "traceback": [
      "\u001b[1;31m---------------------------------------------------------------------------\u001b[0m",
      "\u001b[1;31mStopIteration\u001b[0m                             Traceback (most recent call last)",
      "Cell \u001b[1;32mIn[12], line 9\u001b[0m\n\u001b[0;32m      7\u001b[0m gen \u001b[38;5;241m=\u001b[39m even_numbers(n)\n\u001b[0;32m      8\u001b[0m \u001b[38;5;28;01mfor\u001b[39;00m a \u001b[38;5;129;01min\u001b[39;00m \u001b[38;5;28mrange\u001b[39m(n\u001b[38;5;241m+\u001b[39m\u001b[38;5;241m1\u001b[39m):\n\u001b[1;32m----> 9\u001b[0m     \u001b[38;5;28mprint\u001b[39m(\u001b[38;5;28mnext\u001b[39m(gen))\n",
      "\u001b[1;31mStopIteration\u001b[0m: "
     ]
    }
   ],
   "source": [
    "def even_numbers(n):\n",
    "    for num in range(1, n+1):\n",
    "        if (num % 2 == 0):\n",
    "            yield num\n",
    "\n",
    "n = int(input())\n",
    "gen = even_numbers(n)\n",
    "for a in range(n+1):\n",
    "    print(next(gen))"
   ]
  },
  {
   "cell_type": "code",
   "execution_count": 17,
   "metadata": {},
   "outputs": [
    {
     "name": "stdout",
     "output_type": "stream",
     "text": [
      "2\n",
      "4\n",
      "6\n",
      "8\n",
      "10\n",
      "12\n",
      "14\n",
      "16\n",
      "18\n",
      "20\n"
     ]
    }
   ],
   "source": [
    "def even_numbers(n):\n",
    "    num = 1 \n",
    "    while True:\n",
    "        if num % 2 == 0:\n",
    "            yield num \n",
    "        num += 1\n",
    "\n",
    "n = int(input())\n",
    "gen = even_numbers(n)\n",
    "for a in range(n):\n",
    "    print(next(gen))"
   ]
  },
  {
   "cell_type": "markdown",
   "metadata": {},
   "source": [
    "Define a function with a generator which can iterate the numbers, which are divisible by 3 and 4, between a given range 0 and n."
   ]
  },
  {
   "cell_type": "code",
   "execution_count": 23,
   "metadata": {},
   "outputs": [
    {
     "name": "stdout",
     "output_type": "stream",
     "text": [
      "12\n"
     ]
    }
   ],
   "source": [
    "def divisible(num):\n",
    "    for i in range(1 , num+1):\n",
    "        if (i % 3 == 0 ) and (i % 4 == 0):\n",
    "            yield i   \n",
    "\n",
    "n = int(input())\n",
    "gen = divisible(n)\n",
    "for number in gen:\n",
    "    print(number)"
   ]
  },
  {
   "cell_type": "code",
   "execution_count": 24,
   "metadata": {},
   "outputs": [
    {
     "name": "stdout",
     "output_type": "stream",
     "text": [
      "12\n",
      "24\n",
      "36\n",
      "48\n"
     ]
    }
   ],
   "source": [
    "def divisible(num):\n",
    "    num = 1 \n",
    "    while True:\n",
    "        if (num % 3 == 0 ) and (num % 4 == 0):\n",
    "            yield num \n",
    "        num +=1 \n",
    "\n",
    "n = int(input())\n",
    "gen = divisible(n)\n",
    "for a in range(1 , n+1):\n",
    "    print (next(gen))"
   ]
  },
  {
   "cell_type": "markdown",
   "metadata": {},
   "source": [
    "Implement a generator called squares to yield the square of all numbers from (a) to (b). Test it with a \"for\" loop and print each of the yielded values."
   ]
  },
  {
   "cell_type": "code",
   "execution_count": 27,
   "metadata": {},
   "outputs": [
    {
     "name": "stdout",
     "output_type": "stream",
     "text": [
      "25\n",
      "36\n",
      "49\n",
      "64\n",
      "81\n",
      "100\n",
      "121\n",
      "144\n"
     ]
    }
   ],
   "source": [
    "def squares(start , end):\n",
    "    for num in range(start , end + 1):\n",
    "        yield num ** 2 \n",
    "\n",
    "\n",
    "start = (int(input()))\n",
    "end = int(input())\n",
    "gen = squares(start , end)\n",
    "\n",
    "for square in gen:\n",
    "    print(square)"
   ]
  },
  {
   "cell_type": "markdown",
   "metadata": {},
   "source": [
    "Implement a generator that returns all numbers from (n) down to 0."
   ]
  },
  {
   "cell_type": "code",
   "execution_count": 29,
   "metadata": {},
   "outputs": [
    {
     "name": "stdout",
     "output_type": "stream",
     "text": [
      "5\n",
      "4\n",
      "3\n",
      "2\n",
      "1\n",
      "0\n"
     ]
    }
   ],
   "source": [
    "def from_n_to_0(n):\n",
    "    while (n >= 0):\n",
    "        yield n \n",
    "        n -= 1\n",
    "\n",
    "\n",
    "number = int(input())\n",
    "gen = from_n_to_0(number)\n",
    "for res in gen:\n",
    "    print(res)\n",
    "\n"
   ]
  }
 ],
 "metadata": {
  "kernelspec": {
   "display_name": "base",
   "language": "python",
   "name": "python3"
  },
  "language_info": {
   "codemirror_mode": {
    "name": "ipython",
    "version": 3
   },
   "file_extension": ".py",
   "mimetype": "text/x-python",
   "name": "python",
   "nbconvert_exporter": "python",
   "pygments_lexer": "ipython3",
   "version": "3.12.7"
  }
 },
 "nbformat": 4,
 "nbformat_minor": 2
}
