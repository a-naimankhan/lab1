{
 "cells": [
  {
   "cell_type": "markdown",
   "metadata": {},
   "source": [
    "Write a Python program to subtract five days from current date."
   ]
  },
  {
   "cell_type": "code",
   "execution_count": 2,
   "metadata": {},
   "outputs": [
    {
     "name": "stdout",
     "output_type": "stream",
     "text": [
      "2025-02-24 10:28:08.206290\n"
     ]
    }
   ],
   "source": [
    "import datetime \n",
    "x = datetime.datetime.now() - datetime.timedelta(days= 5)\n",
    "print(x)"
   ]
  },
  {
   "cell_type": "markdown",
   "metadata": {},
   "source": [
    "Write a Python program to print yesterday, today, tomorrow."
   ]
  },
  {
   "cell_type": "code",
   "execution_count": 5,
   "metadata": {},
   "outputs": [
    {
     "name": "stdout",
     "output_type": "stream",
     "text": [
      "yesterday was 2025-02-08 19:49:56.105158\n",
      "today is 2025-02-09 19:49:56.105158\n",
      "tomorrow is 2025-02-10 19:49:56.105158\n"
     ]
    }
   ],
   "source": [
    "yesterday = datetime.datetime.now() - datetime.timedelta(days=1)\n",
    "print(f\"yesterday was {yesterday}\")\n",
    "\n",
    "today = datetime.datetime.now()\n",
    "print(f\"today is {today}\")\n",
    "\n",
    "tomorrow = datetime.datetime.now() + datetime.timedelta(days = 1)\n",
    "print (f\"tomorrow is {tomorrow}\")"
   ]
  },
  {
   "cell_type": "markdown",
   "metadata": {},
   "source": [
    "Write a Python program to drop microseconds from datetime."
   ]
  },
  {
   "cell_type": "code",
   "execution_count": 3,
   "metadata": {},
   "outputs": [
    {
     "name": "stdout",
     "output_type": "stream",
     "text": [
      "now with microsecs : 2025-03-01 10:28:13.372414\n",
      "now without microsecs : 2025-03-01 10:28:13\n"
     ]
    }
   ],
   "source": [
    "now = datetime.datetime.now()\n",
    "\n",
    "now_without_microsecs = now.replace(microsecond= 0)\n",
    "\n",
    "print(f\"now with microsecs : {now}\")\n",
    "print(f\"now without microsecs : {now_without_microsecs}\")"
   ]
  },
  {
   "cell_type": "markdown",
   "metadata": {},
   "source": [
    "Write a Python program to calculate two date difference in seconds."
   ]
  },
  {
   "cell_type": "code",
   "execution_count": 7,
   "metadata": {},
   "outputs": [
    {
     "name": "stdout",
     "output_type": "stream",
     "text": [
      "the diff in seconds is 120.0\n"
     ]
    }
   ],
   "source": [
    "date1 = input(\"Enter the date in YYYY:MM:DD HH:MM:SS\")\n",
    "date2 = input(\"Enter the date in YYYY:MM:DD HH:MM:SS\")\n",
    "\n",
    "date_format = \"%Y-%m-%d %H:%M:%S\"\n",
    "date1 = datetime.datetime.strptime(date1 , date_format)\n",
    "date2 = datetime.datetime.strptime(date2 , date_format)\n",
    "\n",
    "time_diff= date1 - date2 \n",
    "\n",
    "seconds_diff = time_diff.total_seconds()\n",
    "\n",
    "print(f\"the diff in seconds is {seconds_diff}\")"
   ]
  }
 ],
 "metadata": {
  "kernelspec": {
   "display_name": "base",
   "language": "python",
   "name": "python3"
  },
  "language_info": {
   "codemirror_mode": {
    "name": "ipython",
    "version": 3
   },
   "file_extension": ".py",
   "mimetype": "text/x-python",
   "name": "python",
   "nbconvert_exporter": "python",
   "pygments_lexer": "ipython3",
   "version": "3.12.7"
  }
 },
 "nbformat": 4,
 "nbformat_minor": 2
}
