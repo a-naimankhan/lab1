{
 "cells": [
  {
   "cell_type": "markdown",
   "metadata": {},
   "source": [
    "LAB 3 FUNCTIONS"
   ]
  },
  {
   "cell_type": "markdown",
   "metadata": {},
   "source": [
    "task 1 A recipe you are reading states how many grams you need for the ingredient. Unfortunately, your store only sells items in ounces. Create a function to convert grams to ounces. ounces = 28.3495231 * grams"
   ]
  },
  {
   "cell_type": "code",
   "execution_count": 1,
   "metadata": {},
   "outputs": [
    {
     "name": "stdout",
     "output_type": "stream",
     "text": [
      "113.3980924\n"
     ]
    }
   ],
   "source": [
    "def grams_to_ounces(grams):\n",
    "    return 28.3495231 * grams\n",
    "\n",
    "grams=int(input(\"enter ur grams: \"))\n",
    "print(grams_to_ounces(grams))"
   ]
  },
  {
   "cell_type": "markdown",
   "metadata": {},
   "source": [
    "Read in a Fahrenheit temperature. Calculate and display the equivalent centigrade temperature. The following formula is used for the conversion: C = (5 / 9) * (F – 32)"
   ]
  },
  {
   "cell_type": "code",
   "execution_count": 5,
   "metadata": {},
   "outputs": [
    {
     "name": "stdout",
     "output_type": "stream",
     "text": [
      "37.77777777777778\n"
     ]
    }
   ],
   "source": [
    "def Fahrenheit_to_Celcius(F):\n",
    "    return (5/9) * (F - 32)\n",
    "\n",
    "F = int(input(\"Enter ur Fahrenheit temperature: \"))\n",
    "print(Fahrenheit_to_Celcius(F))"
   ]
  },
  {
   "cell_type": "markdown",
   "metadata": {},
   "source": [
    "Write a program to solve a classic puzzle: We count 35 heads and 94 legs among the chickens and rabbits in a farm. How many rabbits and how many chickens do we have? create function: solve(numheads, numlegs): "
   ]
  },
  {
   "cell_type": "code",
   "execution_count": 8,
   "metadata": {},
   "outputs": [
    {
     "name": "stdout",
     "output_type": "stream",
     "text": [
      "(23, 12)\n"
     ]
    }
   ],
   "source": [
    "\n",
    "def res(numlegs , numheads):\n",
    "    for chickens in range(numheads + 1):\n",
    "        rabbits = numheads - chickens\n",
    "        if (2 * chickens + 4 * rabbits == numlegs):\n",
    "            return chickens , rabbits\n",
    "        \n",
    "\n",
    "numlegs = 94 \n",
    "numheads = 35 \n",
    "print(res (numlegs , numheads))\n",
    "        \n",
    "\n"
   ]
  },
  {
   "cell_type": "markdown",
   "metadata": {},
   "source": [
    "You are given list of numbers separated by spaces. Write a function filter_prime which will take list of numbers as an agrument and returns only prime numbers from the list.\n"
   ]
  },
  {
   "cell_type": "code",
   "execution_count": 4,
   "metadata": {},
   "outputs": [
    {
     "name": "stdout",
     "output_type": "stream",
     "text": [
      "[7, 11, 23]\n"
     ]
    }
   ],
   "source": [
    "import math\n",
    "\n",
    "def filter_primne (numbers):\n",
    "    primes = []\n",
    "    for number in numbers:\n",
    "        if number < 2:\n",
    "            continue \n",
    "        is_prime = True\n",
    "        for it in range(2 , int(math.sqrt(number)) + 1 ):\n",
    "            if number % it == 0:\n",
    "                is_prime= False\n",
    "                break\n",
    "        if is_prime:\n",
    "            primes.append(number)\n",
    "    return primes\n",
    "    \n",
    "string_integer = input()\n",
    "numbers = list(map(int , string_integer.split()))\n",
    "print(filter_primne(numbers))"
   ]
  },
  {
   "cell_type": "markdown",
   "metadata": {},
   "source": [
    "Write a function that accepts string from user and print all permutations of that string."
   ]
  },
  {
   "cell_type": "code",
   "execution_count": 8,
   "metadata": {},
   "outputs": [
    {
     "name": "stdout",
     "output_type": "stream",
     "text": [
      "XYZ\n",
      "XZY\n",
      "YXZ\n",
      "YZX\n",
      "ZXY\n",
      "ZYX\n"
     ]
    }
   ],
   "source": [
    "from itertools import permutations\n",
    "\n",
    "def all_permutations(Permut):\n",
    "    perms = permutations(Permut)\n",
    "    for p in perms:\n",
    "        print(''.join(p))\n",
    "\n",
    "user_input = input()\n",
    "all_permutations(user_input)\n"
   ]
  },
  {
   "cell_type": "markdown",
   "metadata": {},
   "source": [
    "Write a function that accepts string from user, return a sentence with the words reversed. We are ready -> ready are We"
   ]
  },
  {
   "cell_type": "code",
   "execution_count": 10,
   "metadata": {},
   "outputs": [
    {
     "data": {
      "text/plain": [
       "['world!', 'Hello']"
      ]
     },
     "execution_count": 10,
     "metadata": {},
     "output_type": "execute_result"
    }
   ],
   "source": [
    "def reverse_sentence(sentence):\n",
    "    sentence.sort(reverse = True)\n",
    "    return sentence\n",
    "\n",
    "user_sentence = input()\n",
    "words_list = user_sentence.split()\n",
    "reverse_sentence(words_list)"
   ]
  },
  {
   "cell_type": "markdown",
   "metadata": {},
   "source": [
    "Given a list of ints, return True if the array contains a 3 next to a 3 somewhere.\n",
    "\n",
    "def has_33(nums):\n",
    "    pass\n",
    "\n",
    "has_33([1, 3, 3]) → True\n",
    "has_33([1, 3, 1, 3]) → False\n",
    "has_33([3, 1, 3]) → False"
   ]
  },
  {
   "cell_type": "code",
   "execution_count": 12,
   "metadata": {},
   "outputs": [
    {
     "name": "stdout",
     "output_type": "stream",
     "text": [
      "True\n",
      "False\n"
     ]
    }
   ],
   "source": [
    "def has33(nums):\n",
    "    for i in nums:\n",
    "        if (nums[i] == 3):\n",
    "            if (nums[i+1] == nums[i]) or (nums[i-1] == nums[i]):\n",
    "                return True\n",
    "            return False\n",
    "\n",
    "\n",
    "has_33 = ([1,3,3])\n",
    "print(has33(has_33))\n",
    "\n",
    "has_33 = [1,3,1 , 3]\n",
    "print(has33(has_33))\n",
    "\n",
    "\n",
    "            "
   ]
  },
  {
   "cell_type": "markdown",
   "metadata": {},
   "source": [
    "Write a function that takes in a list of integers and returns True if it contains 007 in order\n",
    "def spy_game(nums):\n",
    "    pass\n",
    "\n",
    "spy_game([1,2,4,0,0,7,5]) --> True\n",
    "spy_game([1,0,2,4,0,5,7]) --> True\n",
    "spy_game([1,7,2,0,4,5,0]) --> False"
   ]
  },
  {
   "cell_type": "code",
   "execution_count": 14,
   "metadata": {},
   "outputs": [
    {
     "name": "stdout",
     "output_type": "stream",
     "text": [
      "True\n"
     ]
    }
   ],
   "source": [
    "def spy_game(nums , pattern):\n",
    "    for i in range(len(nums) - len(pattern) + 1):\n",
    "        if (nums[i : i + len(pattern)] == pattern):\n",
    "            return True\n",
    "    return False\n",
    "\n",
    "nums = [1 , 2  , 3 , 4 , 0 , 0 , 7 , 9]\n",
    "pattern = [0 , 0 , 7]\n",
    "print(spy_game(nums , pattern))"
   ]
  },
  {
   "cell_type": "markdown",
   "metadata": {},
   "source": [
    "Write a function that computes the volume of a sphere given its radius"
   ]
  },
  {
   "cell_type": "code",
   "execution_count": 1,
   "metadata": {},
   "outputs": [
    {
     "name": "stdout",
     "output_type": "stream",
     "text": [
      "268.082573106329\n"
     ]
    }
   ],
   "source": [
    "import math\n",
    "def Volume(r):\n",
    "    return ((4/3) * (math.pi) * (r ** 3))\n",
    "\n",
    "Radius = int(input())\n",
    "print(Volume(Radius))\n"
   ]
  },
  {
   "cell_type": "markdown",
   "metadata": {},
   "source": [
    "Write a Python function that takes a list and returns a new list with unique elements of the first list. Note: don't use collection set"
   ]
  },
  {
   "cell_type": "code",
   "execution_count": 18,
   "metadata": {},
   "outputs": [
    {
     "name": "stdout",
     "output_type": "stream",
     "text": [
      "[4, 5, 7, 6]\n"
     ]
    }
   ],
   "source": [
    "def unique_elements(list1):\n",
    "    list2 = []\n",
    "    i = 0 \n",
    "    while (i < len(list1) ):\n",
    "        el = list1[i]\n",
    "        is_unique = True\n",
    "\n",
    "        for j in range(i + 1 , len(list1)):\n",
    "            if list1[i]==list1[j]:\n",
    "                is_unique = False\n",
    "                list1.pop(j)\n",
    "                break\n",
    "\n",
    "        if is_unique: \n",
    "            list2.append(el)  \n",
    "            i += 1\n",
    "        else:\n",
    "            list1.pop(i)\n",
    "    return list2\n",
    "\n",
    "list1=[1 , 1 , 2 , 2 , 3 , 3 , 4 , 5 , 6 , 6 , 7 , 6 ]\n",
    "print(unique_elements(list1))"
   ]
  },
  {
   "cell_type": "markdown",
   "metadata": {},
   "source": [
    "Write a Python function that checks whether a word or phrase is palindrome or not. Note: A palindrome is word, phrase, or sequence that reads the same backward as forward, e.g., madam"
   ]
  },
  {
   "cell_type": "code",
   "execution_count": 22,
   "metadata": {},
   "outputs": [
    {
     "name": "stdout",
     "output_type": "stream",
     "text": [
      "False\n"
     ]
    }
   ],
   "source": [
    "def is_palindrome(word):\n",
    "    word1 = word[::-1]\n",
    "    return word1 == word  \n",
    "\n",
    "word = input()\n",
    "print(is_palindrome(word))"
   ]
  },
  {
   "cell_type": "markdown",
   "metadata": {},
   "source": [
    "Define a functino histogram() that takes a list of integers and prints a histogram to the screen. For example, histogram([4, 9, 7]) should print the following:\n",
    "\n",
    "****\n",
    "*********\n",
    "*******\n"
   ]
  },
  {
   "cell_type": "code",
   "execution_count": 25,
   "metadata": {},
   "outputs": [
    {
     "name": "stdout",
     "output_type": "stream",
     "text": [
      "****\n",
      "*****\n",
      "******\n"
     ]
    }
   ],
   "source": [
    "def histogram(nums):\n",
    "    for num in nums:\n",
    "        print(num * '*')\n",
    "\n",
    "input_string = input()\n",
    "nums = list(map(int , input_string.split()))\n",
    "histogram(nums)\n",
    "    "
   ]
  },
  {
   "cell_type": "markdown",
   "metadata": {},
   "source": [
    "Write a program able to play the \"Guess the number\" - game, where the number to be guessed is randomly chosen between 1 and 20. This is how it should work when run in a terminal:\n",
    "Hello! What is your name?\n",
    "KBTU\n",
    "\n",
    "Well, KBTU, I am thinking of a number between 1 and 20.\n",
    "Take a guess.\n",
    "12\n",
    "\n",
    "Your guess is too low.\n",
    "Take a guess.\n",
    "16\n",
    "\n",
    "Your guess is too low.\n",
    "Take a guess.\n",
    "19\n",
    "\n",
    "Good job, KBTU! You guessed my number in 3 guesses!"
   ]
  },
  {
   "cell_type": "code",
   "execution_count": 28,
   "metadata": {},
   "outputs": [
    {
     "name": "stdout",
     "output_type": "stream",
     "text": [
      "Hello, what is your name?\n",
      "Your guess is too low.\n",
      "Take a guess.\n",
      "Your guess is too low.\n",
      "Take a guess.\n",
      "Your guess is too high.\n",
      "Take a guess.\n",
      "Your guess is too low.\n",
      "Take a guess.\n",
      "Your guess is too high.\n",
      "Take a guess.\n",
      "Good job, Aibar! You guessed my number in 6 guesses!\n"
     ]
    }
   ],
   "source": [
    "import random\n",
    "\n",
    "def guess_a_number(name, random_number):\n",
    "    counter = 0\n",
    "    while True:\n",
    "        counter += 1\n",
    "        num = int(input()) \n",
    "        if num == random_number:\n",
    "            print(f\"Good job, {name}! You guessed my number in {counter} guesses!\")\n",
    "            break\n",
    "        elif num < random_number:\n",
    "            print(\"Your guess is too low.\\nTake a guess.\")\n",
    "        else:\n",
    "            print(\"Your guess is too high.\\nTake a guess.\")\n",
    "\n",
    "print(\"Hello, what is your name?\")\n",
    "name = input()\n",
    "random_number = random.randint(1, 100)\n",
    "guess_a_number(name, random_number)\n"
   ]
  }
 ],
 "metadata": {
  "kernelspec": {
   "display_name": "Python 3",
   "language": "python",
   "name": "python3"
  },
  "language_info": {
   "codemirror_mode": {
    "name": "ipython",
    "version": 3
   },
   "file_extension": ".py",
   "mimetype": "text/x-python",
   "name": "python",
   "nbconvert_exporter": "python",
   "pygments_lexer": "ipython3",
   "version": "3.12.7"
  }
 },
 "nbformat": 4,
 "nbformat_minor": 2
}
