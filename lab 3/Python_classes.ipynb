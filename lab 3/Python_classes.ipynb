{
 "cells": [
  {
   "cell_type": "markdown",
   "metadata": {},
   "source": [
    "Define a class which has at least two methods: getString: to get a string from console input printString: to print the string in upper case."
   ]
  },
  {
   "cell_type": "code",
   "execution_count": 1,
   "metadata": {},
   "outputs": [
    {
     "name": "stdout",
     "output_type": "stream",
     "text": [
      "AIBAR\n"
     ]
    }
   ],
   "source": [
    "class my_string:\n",
    "    def __init__(self):\n",
    "        self.my_string = \"\"\n",
    "    \n",
    "    def get_string(self):\n",
    "        self.my_string = input()\n",
    "\n",
    "    def printstringinupper(self):\n",
    "        print(self.my_string.upper())\n",
    "\n",
    "obj = my_string()\n",
    "obj.get_string()\n",
    "obj.printstringinupper() "
   ]
  },
  {
   "cell_type": "markdown",
   "metadata": {},
   "source": [
    "Define a class named Shape and its subclass Square. The Square class has an init function which takes a length as argument. Both classes have a area function which can print the area of the shape where Shape's area is 0 by default."
   ]
  },
  {
   "cell_type": "code",
   "execution_count": 5,
   "metadata": {},
   "outputs": [
    {
     "name": "stdout",
     "output_type": "stream",
     "text": [
      "shape area is : 0\n",
      "Square area is:  25\n"
     ]
    }
   ],
   "source": [
    "class shape:\n",
    "    def __init__(self):\n",
    "        self.area_value = 0\n",
    "\n",
    "    def area(self):\n",
    "        return self.area_value\n",
    "\n",
    "class square(shape):\n",
    "    def __init__(self , lenght):\n",
    "        super().__init__()\n",
    "        self.lenght = lenght\n",
    "    \n",
    "    def area(self):\n",
    "        return self.lenght ** 2\n",
    "\n",
    "\n",
    "Shape = shape()\n",
    "print (\"shape area is :\" , Shape.area())\n",
    "\n",
    "Square = square(int(input()))\n",
    "print(\"Square area is: \" , Square.area() ) \n",
    "        "
   ]
  },
  {
   "cell_type": "markdown",
   "metadata": {},
   "source": [
    "Define a class named Rectangle which inherits from Shape class from task 2. Class instance can be constructed by a length and width. The Rectangle class has a method which can compute the area."
   ]
  },
  {
   "cell_type": "code",
   "execution_count": 7,
   "metadata": {},
   "outputs": [
    {
     "name": "stdout",
     "output_type": "stream",
     "text": [
      "shape area is : 0\n",
      "Square area is:  25\n",
      "Rectangle area is :  20\n"
     ]
    }
   ],
   "source": [
    "class shape:\n",
    "    def __init__(self):\n",
    "        self.area_value = 0\n",
    "\n",
    "    def area(self):\n",
    "        return self.area_value\n",
    "\n",
    "class square(shape):\n",
    "    def __init__(self , lenght):\n",
    "        super().__init__()\n",
    "        self.lenght = lenght\n",
    "    \n",
    "    def area(self):\n",
    "        return self.lenght ** 2\n",
    "\n",
    "class rectangle(shape):\n",
    "    def __init__ (self , lenght , width):\n",
    "        super().__init__()\n",
    "        self.lenght = lenght\n",
    "        self.width = width\n",
    "    \n",
    "    def area(self):\n",
    "        return self.lenght * self.width\n",
    "    \n",
    "\n",
    "Shape = shape()\n",
    "print (\"shape area is :\" , Shape.area())\n",
    "\n",
    "Square = square(int(input()))\n",
    "print(\"Square area is: \" , Square.area() ) \n",
    "\n",
    "Rectangle = rectangle(int(input()) , int(input()))\n",
    "print(\"Rectangle area is : \" , Rectangle.area())        "
   ]
  },
  {
   "cell_type": "markdown",
   "metadata": {},
   "source": [
    "Write the definition of a Point class. Objects from this class should have a\n",
    "\n",
    "1)a method show to display the coordinates of the point\n",
    "2)a method move to change these coordinates\n",
    "3)a method dist that computes the distance between 2 points"
   ]
  },
  {
   "cell_type": "code",
   "execution_count": 12,
   "metadata": {},
   "outputs": [
    {
     "name": "stdout",
     "output_type": "stream",
     "text": [
      "Point coordinates are at x = 1 , y = 2\n",
      "Point coordinates are at x = 4 , y = 6\n",
      "Point coordinates are at x = 3 , y = 3\n",
      "the distance between points is : 3.1622776601683795\n"
     ]
    }
   ],
   "source": [
    "import math\n",
    " \n",
    "class Point:\n",
    "    def __init__(self , x = 0 , y = 0):\n",
    "        self.x = x \n",
    "        self.y = y \n",
    "    \n",
    "    def show (self):\n",
    "        print(f\"Point coordinates are at x = {self.x} , y = {self.y}\")\n",
    "\n",
    "    def move (self , new_x , new_y):\n",
    "        self.x = new_x\n",
    "        self.y = new_y\n",
    "\n",
    "    def dis(self, other_point):\n",
    "        return math.sqrt((self.x - other_point.x ) ** 2  + (self.y - other_point.y) ** 2)\n",
    "\n",
    "point1 = Point(1, 2)\n",
    "point2 = Point(4, 6)\n",
    "\n",
    "\n",
    "point1.show()\n",
    "point2.show()\n",
    "\n",
    "point1.move(3, 3)\n",
    "point1.show()\n",
    "\n",
    "distance = point1.dis(point2)\n",
    "print (f\"the distance between points is : {distance}\")"
   ]
  },
  {
   "cell_type": "markdown",
   "metadata": {},
   "source": [
    "Create a bank account class that has attributes owner, balance and two methods deposit and withdraw. Withdrawals may not exceed the available balance. Instantiate your class, make several deposits and withdrawals, and test to make sure the account can't be overdrawn."
   ]
  },
  {
   "cell_type": "code",
   "execution_count": 20,
   "metadata": {},
   "outputs": [
    {
     "name": "stdout",
     "output_type": "stream",
     "text": [
      "Deposited 500. New balance is 500\n",
      "Withdrew 250 of money. There are 250 left.\n",
      "Withdrew 200 of money. There are 50 left.\n",
      "Current balance is: 50\n",
      "Account owner is: Aibar\n"
     ]
    }
   ],
   "source": [
    "class BankAccount:\n",
    "    def __init__(self, owner=\"\", balance=0):\n",
    "        self.owner = owner\n",
    "        self.balance = balance\n",
    "    \n",
    "    def deposit(self, amount):\n",
    "        if amount > 0:\n",
    "            self.balance += amount\n",
    "            print(f\"Deposited {amount}. New balance is {self.balance}\")\n",
    "        else:\n",
    "            print(\"Deposit amount must be positive.\")\n",
    "\n",
    "    def withdraw(self, amount):\n",
    "        if amount <= self.balance:\n",
    "            self.balance -= amount\n",
    "            print(f\"Withdrew {amount} of money. There are {self.balance} left.\")\n",
    "        else:\n",
    "            print(\"Not enough funds to withdraw.\")\n",
    "\n",
    "    def show_balance(self):\n",
    "        print(f\"Current balance is: {self.balance}\")\n",
    "\n",
    "    def show_owner(self):\n",
    "        print(f\"Account owner is: {self.owner}\")\n",
    "\n",
    "\n",
    "owner_name = input(\"Enter account owner: \")\n",
    "account = BankAccount(owner_name)\n",
    "\n",
    "account.deposit(500)\n",
    "account.withdraw(250)\n",
    "\n",
    "withdraw_amount = int(input(\"Enter amount to withdraw: \"))\n",
    "account.withdraw(withdraw_amount)\n",
    "\n",
    "account.show_balance()\n",
    "account.show_owner()\n"
   ]
  },
  {
   "cell_type": "markdown",
   "metadata": {},
   "source": [
    "Write a program which can filter prime numbers in a list by using filter function. Note: Use lambda to define anonymous functions."
   ]
  },
  {
   "cell_type": "code",
   "execution_count": 25,
   "metadata": {},
   "outputs": [],
   "source": [
    "import math\n",
    "\n",
    "class Primefilter:\n",
    "    def is_prime(self , x):\n",
    "        if x <= 1:\n",
    "            return False\n",
    "        for i in range(2 , int(x**0.5) + 1):\n",
    "            if x % i == 0:\n",
    "                return False\n",
    "            return True\n",
    "    \n",
    "    def filter_primes(self,numbers):\n",
    "        return [num for num in numbers if self.is_prime(num)]\n",
    "    \n",
    "prime_filter = Primefilter()\n",
    "\n",
    "string_nums = input()\n",
    "numbers = list(map(int , string_nums.split()))\n",
    "\n",
    "prime_numbers = prime_filter.filter_primes(numbers)\n",
    "print (f\"prime numbers are {prime_numbers}\")            "
   ]
  }
 ],
 "metadata": {
  "kernelspec": {
   "display_name": "base",
   "language": "python",
   "name": "python3"
  },
  "language_info": {
   "codemirror_mode": {
    "name": "ipython",
    "version": 3
   },
   "file_extension": ".py",
   "mimetype": "text/x-python",
   "name": "python",
   "nbconvert_exporter": "python",
   "pygments_lexer": "ipython3",
   "version": "3.12.7"
  }
 },
 "nbformat": 4,
 "nbformat_minor": 2
}
