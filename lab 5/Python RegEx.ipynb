{
 "cells": [
  {
   "cell_type": "markdown",
   "metadata": {},
   "source": [
    "Write a Python program that matches a string that has an 'a' followed by zero or more 'b''s."
   ]
  },
  {
   "cell_type": "code",
   "execution_count": 16,
   "metadata": {},
   "outputs": [
    {
     "name": "stdout",
     "output_type": "stream",
     "text": [
      "ab matches the pattern\n",
      "abb matches the pattern\n"
     ]
    }
   ],
   "source": [
    "import re \n",
    "\n",
    "def naiti(filename):\n",
    "    pattern = r'a[b]*'  \n",
    "    \n",
    "    with open(filename, 'r') as file:\n",
    "        for line in file:\n",
    "            line = line.strip()  \n",
    "            if re.fullmatch(pattern, line): \n",
    "                print(f\"{line} matches the pattern\")\n",
    "           \n",
    "\n",
    "filename = \"row.txt\"\n",
    "naiti(filename)\n"
   ]
  },
  {
   "cell_type": "markdown",
   "metadata": {},
   "source": [
    "Write a Python program that matches a string that has an 'a' followed by two to three 'b'"
   ]
  },
  {
   "cell_type": "code",
   "execution_count": 23,
   "metadata": {},
   "outputs": [
    {
     "name": "stdout",
     "output_type": "stream",
     "text": [
      "abbbb matches the pattern\n"
     ]
    }
   ],
   "source": [
    "\n",
    "\n",
    "def naiti(filename):\n",
    "    pattern = r'a[b]{4,}'  \n",
    "    \n",
    "    with open(filename, 'r') as file:\n",
    "        for line in file:\n",
    "            line = line.strip()  \n",
    "            if re.fullmatch(pattern, line):  \n",
    "                print(f\"{line} matches the pattern\")\n",
    "          \n",
    "\n",
    "filename = \"row.txt\"\n",
    "naiti(filename)\n"
   ]
  },
  {
   "cell_type": "markdown",
   "metadata": {},
   "source": [
    "Write a Python program to find sequences of lowercase letters joined with a underscore."
   ]
  },
  {
   "cell_type": "code",
   "execution_count": 30,
   "metadata": {},
   "outputs": [
    {
     "name": "stdout",
     "output_type": "stream",
     "text": [
      "hello_world mathches the pattern\n",
      "privet_kakdela mathches the pattern\n"
     ]
    }
   ],
   "source": [
    "def searchfor(filename):\n",
    "    pattern = r'[a-z]+(?:_[a-z]+)'\n",
    "\n",
    "    with open(filename ,'r') as file:\n",
    "        for line in file:\n",
    "            line = line.strip()\n",
    "            if re.fullmatch(pattern , line):\n",
    "                print(f\"{line} mathches the pattern\")\n",
    "\n",
    "filename= \"row.txt\" \n",
    "searchfor(filename)"
   ]
  },
  {
   "cell_type": "markdown",
   "metadata": {},
   "source": [
    "Write a Python program to find the sequences of one upper case letter followed by lower case letters"
   ]
  },
  {
   "cell_type": "code",
   "execution_count": 34,
   "metadata": {},
   "outputs": [
    {
     "name": "stdout",
     "output_type": "stream",
     "text": [
      "Стоимость matches the pattern\n",
      "Стоимость matches the pattern\n",
      "Стоимость matches the pattern\n",
      "Стоимость matches the pattern\n",
      "Стоимость matches the pattern\n",
      "Стоимость matches the pattern\n",
      "Стоимость matches the pattern\n",
      "Стоимость matches the pattern\n",
      "Стоимость matches the pattern\n",
      "Стоимость matches the pattern\n",
      "Стоимость matches the pattern\n",
      "Стоимость matches the pattern\n",
      "Стоимость matches the pattern\n",
      "Стоимость matches the pattern\n",
      "Стоимость matches the pattern\n",
      "Стоимость matches the pattern\n",
      "Стоимость matches the pattern\n",
      "Стоимость matches the pattern\n",
      "Стоимость matches the pattern\n",
      "Стоимость matches the pattern\n"
     ]
    }
   ],
   "source": [
    "def searchfor(filename):\n",
    "    pattern = r'[A-я][а-я]+'\n",
    "\n",
    "    with open(filename , 'r') as file:\n",
    "        for line in file:\n",
    "            line = line.strip()\n",
    "            if re.fullmatch(pattern , line):\n",
    "                print(f\"{line} matches the pattern\")\n",
    "\n",
    "filename = \"row.txt\"\n",
    "searchfor(filename)"
   ]
  },
  {
   "cell_type": "markdown",
   "metadata": {},
   "source": [
    "Write a Python program that matches a string that has an 'a' followed by anything, ending in 'b'"
   ]
  },
  {
   "cell_type": "code",
   "execution_count": 35,
   "metadata": {},
   "outputs": [
    {
     "name": "stdout",
     "output_type": "stream",
     "text": [
      "ab matches the pattern\n"
     ]
    }
   ],
   "source": [
    "def searchfor(filename):\n",
    "    pattern = r'^a+b$'\n",
    "\n",
    "    with open(filename , 'r') as file:\n",
    "        for line in file:\n",
    "            line = line.strip()\n",
    "            if re.fullmatch(pattern , line):\n",
    "                print(f\"{line} matches the pattern\")\n",
    "\n",
    "filename = \"row.txt\"\n",
    "searchfor(filename)"
   ]
  },
  {
   "cell_type": "markdown",
   "metadata": {},
   "source": [
    "Write a Python program to replace all occurrences of space, comma, or dot with a colon"
   ]
  },
  {
   "cell_type": "code",
   "execution_count": 37,
   "metadata": {},
   "outputs": [
    {
     "name": "stdout",
     "output_type": "stream",
     "text": [
      "new text is : Shya:takoyue:chto:to:pridimymauy::\n"
     ]
    }
   ],
   "source": [
    "text = \"Shya takoyue_chto?to,pridimymauy; \"\n",
    "\n",
    "new_text = re.sub(r'[ ; ? , _ ]',  ':' , text)\n",
    "print(f\"new text is : {new_text}\")"
   ]
  },
  {
   "cell_type": "markdown",
   "metadata": {},
   "source": [
    "Write a python program to convert snake case string to camel case string."
   ]
  },
  {
   "cell_type": "code",
   "execution_count": 39,
   "metadata": {},
   "outputs": [
    {
     "name": "stdout",
     "output_type": "stream",
     "text": [
      "new text in camel string is : ThisIsSnakeString\n"
     ]
    }
   ],
   "source": [
    "\n",
    "def snake_to_camel(text):\n",
    "    return re.sub(r'_(.)' ,lambda x: x.group(1).upper() ,text)\n",
    "\n",
    "text = \"This_is_snake_string\"\n",
    "new_text = snake_to_camel(text)\n",
    "print(f\"new text in camel string is : {new_text}\")"
   ]
  },
  {
   "cell_type": "markdown",
   "metadata": {},
   "source": [
    "Write a Python program to split a string at uppercase letters."
   ]
  },
  {
   "cell_type": "code",
   "execution_count": 46,
   "metadata": {},
   "outputs": [
    {
     "name": "stdout",
     "output_type": "stream",
     "text": [
      "seperated sentence is : ['', 'I', 'Am', 'Working']\n"
     ]
    }
   ],
   "source": [
    "def seperate_upper_letters(text):\n",
    "    return re.split(r'(?=[A-Z])' , text)\n",
    "\n",
    "text = input() \n",
    "\n",
    "new_text=seperate_upper_letters(text)\n",
    "\n",
    "print(f\"seperated sentence is : {new_text}\")"
   ]
  },
  {
   "cell_type": "markdown",
   "metadata": {},
   "source": [
    "Write a Python program to insert spaces between words starting with capital letters."
   ]
  },
  {
   "cell_type": "code",
   "execution_count": 52,
   "metadata": {},
   "outputs": [
    {
     "name": "stdout",
     "output_type": "stream",
     "text": [
      "Text with spaces: Ya Rabotayuooooo\n"
     ]
    }
   ],
   "source": [
    "def insert_spaces(text):\n",
    "    return re.sub(r'(?=[A-Z])', ' ', text).strip()\n",
    "\n",
    "\n",
    "text = input()  \n",
    "new_text = insert_spaces(text)\n",
    "\n",
    "print(f\"Text with spaces: {new_text}\")\n"
   ]
  },
  {
   "cell_type": "markdown",
   "metadata": {},
   "source": [
    "Write a Python program to convert a given camel case string to snake case."
   ]
  },
  {
   "cell_type": "code",
   "execution_count": 56,
   "metadata": {},
   "outputs": [
    {
     "name": "stdout",
     "output_type": "stream",
     "text": [
      "from camel to snake is : Aibar Is Working\n"
     ]
    }
   ],
   "source": [
    "def from_camel_to_snake(moe_pred):\n",
    "     return re.sub(r'(?<=.)(?=[A-Z])', '_', moe_pred)\n",
    "\n",
    "moe_pred = input()\n",
    "\n",
    "new_text = from_camel_to_snake(moe_pred)\n",
    "\n",
    "print(f\"from camel to snake is : {new_text}\")"
   ]
  }
 ],
 "metadata": {
  "kernelspec": {
   "display_name": "base",
   "language": "python",
   "name": "python3"
  },
  "language_info": {
   "codemirror_mode": {
    "name": "ipython",
    "version": 3
   },
   "file_extension": ".py",
   "mimetype": "text/x-python",
   "name": "python",
   "nbconvert_exporter": "python",
   "pygments_lexer": "ipython3",
   "version": "3.12.7"
  }
 },
 "nbformat": 4,
 "nbformat_minor": 2
}
